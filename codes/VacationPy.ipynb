{
 "cells": [
  {
   "cell_type": "markdown",
   "metadata": {},
   "source": [
    "# VacationPy"
   ]
  },
  {
   "cell_type": "markdown",
   "metadata": {},
   "source": [
    "### Import dependencies and key"
   ]
  },
  {
   "cell_type": "code",
   "execution_count": 1,
   "metadata": {},
   "outputs": [],
   "source": [
    "# Dependencies and Setup\n",
    "import matplotlib.pyplot as plt\n",
    "import pandas as pd\n",
    "import numpy as np\n",
    "import requests\n",
    "import gmaps\n",
    "import os\n",
    "\n",
    "# Import API key and access gmaps\n",
    "from api_keys import g_key\n",
    "gmaps.configure(api_key=g_key)\n",
    "\n",
    "# Data from Part 1\n",
    "data_file = \"../output/cities.csv\""
   ]
  },
  {
   "cell_type": "markdown",
   "metadata": {},
   "source": [
    "### Import Part I results into DataFrame"
   ]
  },
  {
   "cell_type": "code",
   "execution_count": 2,
   "metadata": {},
   "outputs": [
    {
     "data": {
      "text/html": [
       "<div>\n",
       "<style scoped>\n",
       "    .dataframe tbody tr th:only-of-type {\n",
       "        vertical-align: middle;\n",
       "    }\n",
       "\n",
       "    .dataframe tbody tr th {\n",
       "        vertical-align: top;\n",
       "    }\n",
       "\n",
       "    .dataframe thead th {\n",
       "        text-align: right;\n",
       "    }\n",
       "</style>\n",
       "<table border=\"1\" class=\"dataframe\">\n",
       "  <thead>\n",
       "    <tr style=\"text-align: right;\">\n",
       "      <th></th>\n",
       "      <th>City</th>\n",
       "      <th>Cloudiness</th>\n",
       "      <th>Country</th>\n",
       "      <th>Date</th>\n",
       "      <th>Humidity</th>\n",
       "      <th>Lat</th>\n",
       "      <th>Lng</th>\n",
       "      <th>Max Temp</th>\n",
       "      <th>Wind Speed</th>\n",
       "    </tr>\n",
       "  </thead>\n",
       "  <tbody>\n",
       "    <tr>\n",
       "      <th>0</th>\n",
       "      <td>bubaque</td>\n",
       "      <td>36</td>\n",
       "      <td>GW</td>\n",
       "      <td>1578091256</td>\n",
       "      <td>64</td>\n",
       "      <td>11.28</td>\n",
       "      <td>-15.83</td>\n",
       "      <td>78.94</td>\n",
       "      <td>11.74</td>\n",
       "    </tr>\n",
       "    <tr>\n",
       "      <th>1</th>\n",
       "      <td>arcelia</td>\n",
       "      <td>92</td>\n",
       "      <td>MX</td>\n",
       "      <td>1578091258</td>\n",
       "      <td>41</td>\n",
       "      <td>18.32</td>\n",
       "      <td>-100.28</td>\n",
       "      <td>79.56</td>\n",
       "      <td>1.54</td>\n",
       "    </tr>\n",
       "    <tr>\n",
       "      <th>2</th>\n",
       "      <td>wenchi</td>\n",
       "      <td>15</td>\n",
       "      <td>GH</td>\n",
       "      <td>1578091259</td>\n",
       "      <td>13</td>\n",
       "      <td>7.74</td>\n",
       "      <td>-2.10</td>\n",
       "      <td>71.26</td>\n",
       "      <td>5.23</td>\n",
       "    </tr>\n",
       "    <tr>\n",
       "      <th>3</th>\n",
       "      <td>samarai</td>\n",
       "      <td>59</td>\n",
       "      <td>PG</td>\n",
       "      <td>1578091260</td>\n",
       "      <td>63</td>\n",
       "      <td>-10.62</td>\n",
       "      <td>150.67</td>\n",
       "      <td>86.29</td>\n",
       "      <td>3.13</td>\n",
       "    </tr>\n",
       "    <tr>\n",
       "      <th>4</th>\n",
       "      <td>iranshahr</td>\n",
       "      <td>59</td>\n",
       "      <td>IR</td>\n",
       "      <td>1578091261</td>\n",
       "      <td>75</td>\n",
       "      <td>27.21</td>\n",
       "      <td>60.69</td>\n",
       "      <td>60.12</td>\n",
       "      <td>1.01</td>\n",
       "    </tr>\n",
       "  </tbody>\n",
       "</table>\n",
       "</div>"
      ],
      "text/plain": [
       "        City  Cloudiness Country        Date  Humidity    Lat     Lng  \\\n",
       "0    bubaque          36      GW  1578091256        64  11.28  -15.83   \n",
       "1    arcelia          92      MX  1578091258        41  18.32 -100.28   \n",
       "2     wenchi          15      GH  1578091259        13   7.74   -2.10   \n",
       "3    samarai          59      PG  1578091260        63 -10.62  150.67   \n",
       "4  iranshahr          59      IR  1578091261        75  27.21   60.69   \n",
       "\n",
       "   Max Temp  Wind Speed  \n",
       "0     78.94       11.74  \n",
       "1     79.56        1.54  \n",
       "2     71.26        5.23  \n",
       "3     86.29        3.13  \n",
       "4     60.12        1.01  "
      ]
     },
     "execution_count": 2,
     "metadata": {},
     "output_type": "execute_result"
    }
   ],
   "source": [
    "df = pd.read_csv(data_file)\n",
    "df.head()"
   ]
  },
  {
   "cell_type": "code",
   "execution_count": 3,
   "metadata": {},
   "outputs": [
    {
     "data": {
      "text/plain": [
       "City           object\n",
       "Cloudiness      int64\n",
       "Country        object\n",
       "Date            int64\n",
       "Humidity        int64\n",
       "Lat           float64\n",
       "Lng           float64\n",
       "Max Temp      float64\n",
       "Wind Speed    float64\n",
       "dtype: object"
      ]
     },
     "execution_count": 3,
     "metadata": {},
     "output_type": "execute_result"
    }
   ],
   "source": [
    "df.dtypes"
   ]
  },
  {
   "cell_type": "markdown",
   "metadata": {},
   "source": [
    "### Humidity Heatmap"
   ]
  },
  {
   "cell_type": "code",
   "execution_count": 4,
   "metadata": {},
   "outputs": [
    {
     "data": {
      "application/vnd.jupyter.widget-view+json": {
       "model_id": "2b3bf9a50ca04ecea4408b659d0a8260",
       "version_major": 2,
       "version_minor": 0
      },
      "text/plain": [
       "Figure(layout=FigureLayout(height='500px', width='1000px'))"
      ]
     },
     "metadata": {},
     "output_type": "display_data"
    }
   ],
   "source": [
    "locations = df[['Lat','Lng']]\n",
    "humidities = df['Humidity']\n",
    "\n",
    "# Create and format figure\n",
    "fig = gmaps.figure(\n",
    "    center=(20,0),\n",
    "    zoom_level=2,\n",
    "    layout={\n",
    "        'width': '1000px',\n",
    "        'height': '500px'\n",
    "    }\n",
    ")\n",
    "\n",
    "# create heat layer and add to plot\n",
    "heat_map = gmaps.heatmap_layer(\n",
    "    locations,\n",
    "    weights=humidities,\n",
    "    dissipating=False,\n",
    "    max_intensity=max(humidities),\n",
    "    point_radius=2\n",
    ")\n",
    "fig.add_layer(heat_map)\n",
    "\n",
    "# show map\n",
    "fig"
   ]
  },
  {
   "cell_type": "markdown",
   "metadata": {},
   "source": [
    "### Create new DataFrame fitting weather criteria"
   ]
  },
  {
   "cell_type": "code",
   "execution_count": 5,
   "metadata": {},
   "outputs": [
    {
     "name": "stdout",
     "output_type": "stream",
     "text": [
      "Query returns 4 cities with ideal weather\n"
     ]
    },
    {
     "data": {
      "text/html": [
       "<div>\n",
       "<style scoped>\n",
       "    .dataframe tbody tr th:only-of-type {\n",
       "        vertical-align: middle;\n",
       "    }\n",
       "\n",
       "    .dataframe tbody tr th {\n",
       "        vertical-align: top;\n",
       "    }\n",
       "\n",
       "    .dataframe thead th {\n",
       "        text-align: right;\n",
       "    }\n",
       "</style>\n",
       "<table border=\"1\" class=\"dataframe\">\n",
       "  <thead>\n",
       "    <tr style=\"text-align: right;\">\n",
       "      <th></th>\n",
       "      <th>City</th>\n",
       "      <th>Country</th>\n",
       "      <th>Lat</th>\n",
       "      <th>Lng</th>\n",
       "    </tr>\n",
       "  </thead>\n",
       "  <tbody>\n",
       "    <tr>\n",
       "      <th>8</th>\n",
       "      <td>chiredzi</td>\n",
       "      <td>ZW</td>\n",
       "      <td>-21.05</td>\n",
       "      <td>31.67</td>\n",
       "    </tr>\n",
       "    <tr>\n",
       "      <th>101</th>\n",
       "      <td>barrow</td>\n",
       "      <td>AR</td>\n",
       "      <td>-38.31</td>\n",
       "      <td>-60.23</td>\n",
       "    </tr>\n",
       "    <tr>\n",
       "      <th>204</th>\n",
       "      <td>naze</td>\n",
       "      <td>NG</td>\n",
       "      <td>5.43</td>\n",
       "      <td>7.07</td>\n",
       "    </tr>\n",
       "    <tr>\n",
       "      <th>247</th>\n",
       "      <td>dawei</td>\n",
       "      <td>MM</td>\n",
       "      <td>14.07</td>\n",
       "      <td>98.19</td>\n",
       "    </tr>\n",
       "  </tbody>\n",
       "</table>\n",
       "</div>"
      ],
      "text/plain": [
       "         City Country    Lat    Lng\n",
       "8    chiredzi      ZW -21.05  31.67\n",
       "101    barrow      AR -38.31 -60.23\n",
       "204      naze      NG   5.43   7.07\n",
       "247     dawei      MM  14.07  98.19"
      ]
     },
     "execution_count": 5,
     "metadata": {},
     "output_type": "execute_result"
    }
   ],
   "source": [
    "# Cities with ideal weather\n",
    "cities_ideal = df.loc[\n",
    "    (df['Max Temp']>70) & (df['Max Temp']<80) &\n",
    "    (df['Wind Speed']<10) & \n",
    "    (df['Cloudiness']==0),\n",
    "    ['City','Country','Lat','Lng']\n",
    "]\n",
    "\n",
    "print(f'Query returns {len(cities_ideal)} cities with ideal weather')\n",
    "cities_ideal"
   ]
  },
  {
   "cell_type": "markdown",
   "metadata": {},
   "source": [
    "### Hotel Map"
   ]
  },
  {
   "cell_type": "code",
   "execution_count": 6,
   "metadata": {},
   "outputs": [
    {
     "data": {
      "text/html": [
       "<div>\n",
       "<style scoped>\n",
       "    .dataframe tbody tr th:only-of-type {\n",
       "        vertical-align: middle;\n",
       "    }\n",
       "\n",
       "    .dataframe tbody tr th {\n",
       "        vertical-align: top;\n",
       "    }\n",
       "\n",
       "    .dataframe thead th {\n",
       "        text-align: right;\n",
       "    }\n",
       "</style>\n",
       "<table border=\"1\" class=\"dataframe\">\n",
       "  <thead>\n",
       "    <tr style=\"text-align: right;\">\n",
       "      <th></th>\n",
       "      <th>City</th>\n",
       "      <th>Country</th>\n",
       "      <th>Lat</th>\n",
       "      <th>Lng</th>\n",
       "      <th>Hotel Name</th>\n",
       "    </tr>\n",
       "  </thead>\n",
       "  <tbody>\n",
       "    <tr>\n",
       "      <th>8</th>\n",
       "      <td>chiredzi</td>\n",
       "      <td>ZW</td>\n",
       "      <td>-21.05</td>\n",
       "      <td>31.67</td>\n",
       "      <td>NaN</td>\n",
       "    </tr>\n",
       "    <tr>\n",
       "      <th>101</th>\n",
       "      <td>barrow</td>\n",
       "      <td>AR</td>\n",
       "      <td>-38.31</td>\n",
       "      <td>-60.23</td>\n",
       "      <td>NaN</td>\n",
       "    </tr>\n",
       "    <tr>\n",
       "      <th>204</th>\n",
       "      <td>naze</td>\n",
       "      <td>NG</td>\n",
       "      <td>5.43</td>\n",
       "      <td>7.07</td>\n",
       "      <td>NaN</td>\n",
       "    </tr>\n",
       "    <tr>\n",
       "      <th>247</th>\n",
       "      <td>dawei</td>\n",
       "      <td>MM</td>\n",
       "      <td>14.07</td>\n",
       "      <td>98.19</td>\n",
       "      <td>NaN</td>\n",
       "    </tr>\n",
       "  </tbody>\n",
       "</table>\n",
       "</div>"
      ],
      "text/plain": [
       "         City Country    Lat    Lng  Hotel Name\n",
       "8    chiredzi      ZW -21.05  31.67         NaN\n",
       "101    barrow      AR -38.31 -60.23         NaN\n",
       "204      naze      NG   5.43   7.07         NaN\n",
       "247     dawei      MM  14.07  98.19         NaN"
      ]
     },
     "execution_count": 6,
     "metadata": {},
     "output_type": "execute_result"
    }
   ],
   "source": [
    "# make a copy of dataframe to `hotel_df`\n",
    "# add 'Hotel Name' column\n",
    "hotel_df = cities_ideal.copy()\n",
    "hotel_df['Hotel Name'] = pd.Series()\n",
    "hotel_df"
   ]
  },
  {
   "cell_type": "code",
   "execution_count": 7,
   "metadata": {},
   "outputs": [
    {
     "name": "stdout",
     "output_type": "stream",
     "text": [
      "Looking for hotel in chiredzi...\n",
      "Looking for hotel in barrow...\n",
      "Looking for hotel in naze...\n",
      "Looking for hotel in dawei...\n"
     ]
    },
    {
     "data": {
      "text/html": [
       "<div>\n",
       "<style scoped>\n",
       "    .dataframe tbody tr th:only-of-type {\n",
       "        vertical-align: middle;\n",
       "    }\n",
       "\n",
       "    .dataframe tbody tr th {\n",
       "        vertical-align: top;\n",
       "    }\n",
       "\n",
       "    .dataframe thead th {\n",
       "        text-align: right;\n",
       "    }\n",
       "</style>\n",
       "<table border=\"1\" class=\"dataframe\">\n",
       "  <thead>\n",
       "    <tr style=\"text-align: right;\">\n",
       "      <th></th>\n",
       "      <th>City</th>\n",
       "      <th>Country</th>\n",
       "      <th>Lat</th>\n",
       "      <th>Lng</th>\n",
       "      <th>Hotel Name</th>\n",
       "    </tr>\n",
       "  </thead>\n",
       "  <tbody>\n",
       "    <tr>\n",
       "      <th>8</th>\n",
       "      <td>chiredzi</td>\n",
       "      <td>ZW</td>\n",
       "      <td>-21.05</td>\n",
       "      <td>31.67</td>\n",
       "      <td>The Nesbitt Arms</td>\n",
       "    </tr>\n",
       "    <tr>\n",
       "      <th>101</th>\n",
       "      <td>barrow</td>\n",
       "      <td>AR</td>\n",
       "      <td>-38.31</td>\n",
       "      <td>-60.23</td>\n",
       "      <td>Segura</td>\n",
       "    </tr>\n",
       "    <tr>\n",
       "      <th>204</th>\n",
       "      <td>naze</td>\n",
       "      <td>NG</td>\n",
       "      <td>5.43</td>\n",
       "      <td>7.07</td>\n",
       "      <td>Oxygen Holiday Resort</td>\n",
       "    </tr>\n",
       "    <tr>\n",
       "      <th>247</th>\n",
       "      <td>dawei</td>\n",
       "      <td>MM</td>\n",
       "      <td>14.07</td>\n",
       "      <td>98.19</td>\n",
       "      <td>Hotel Dawei</td>\n",
       "    </tr>\n",
       "  </tbody>\n",
       "</table>\n",
       "</div>"
      ],
      "text/plain": [
       "         City Country    Lat    Lng             Hotel Name\n",
       "8    chiredzi      ZW -21.05  31.67       The Nesbitt Arms\n",
       "101    barrow      AR -38.31 -60.23                 Segura\n",
       "204      naze      NG   5.43   7.07  Oxygen Holiday Resort\n",
       "247     dawei      MM  14.07  98.19            Hotel Dawei"
      ]
     },
     "execution_count": 7,
     "metadata": {},
     "output_type": "execute_result"
    }
   ],
   "source": [
    "# Google Places API parameter\n",
    "params = {\n",
    "    'type': 'lodging',\n",
    "    'radius': 8000,      #meters\n",
    "    'key': g_key\n",
    "}\n",
    "\n",
    "# base url\n",
    "base_url = \"https://maps.googleapis.com/maps/api/place/nearbysearch/json\"\n",
    "\n",
    "# Loop through each ideal city\n",
    "for index, row in hotel_df.iterrows():\n",
    "    # add lat/long to parameters\n",
    "    params['location'] = f\"{row['Lat']},{row['Lng']}\"\n",
    "    \n",
    "    # API request\n",
    "    print(f\"Looking for hotel in {row['City']}...\")\n",
    "    results = requests.get(base_url, params=params).json()['results']\n",
    "\n",
    "    # Store first result into dataframe\n",
    "    try:\n",
    "        hotel_df.loc[index,'Hotel Name'] = results[0]['name']\n",
    "    except (KeyError, IndexError):\n",
    "        print(f\"No hotels found within {params['radius']} meters\")\n",
    "\n",
    "hotel_df    \n",
    "    "
   ]
  },
  {
   "cell_type": "code",
   "execution_count": 8,
   "metadata": {},
   "outputs": [],
   "source": [
    "# NOTE: Do not change any of the code in this cell\n",
    "\n",
    "# Using the template add the hotel marks to the heatmap\n",
    "info_box_template = \"\"\"\n",
    "<dl>\n",
    "<dt>Name</dt><dd>{Hotel Name}</dd>\n",
    "<dt>City</dt><dd>{City}</dd>\n",
    "<dt>Country</dt><dd>{Country}</dd>\n",
    "</dl>\n",
    "\"\"\"\n",
    "# Store the DataFrame Row\n",
    "# NOTE: be sure to update with your DataFrame name\n",
    "hotel_info = [info_box_template.format(**row) for index, row in hotel_df.iterrows()]\n",
    "locations = hotel_df[[\"Lat\", \"Lng\"]]"
   ]
  },
  {
   "cell_type": "code",
   "execution_count": 9,
   "metadata": {},
   "outputs": [
    {
     "data": {
      "application/vnd.jupyter.widget-view+json": {
       "model_id": "2b3bf9a50ca04ecea4408b659d0a8260",
       "version_major": 2,
       "version_minor": 0
      },
      "text/plain": [
       "Figure(layout=FigureLayout(height='500px', width='1000px'))"
      ]
     },
     "metadata": {},
     "output_type": "display_data"
    }
   ],
   "source": [
    "# Add marker layer ontop of heat map\n",
    "markers = gmaps.marker_layer(\n",
    "    locations,\n",
    "    info_box_content=hotel_info\n",
    ")\n",
    "fig.add_layer(markers)\n",
    "\n",
    "# Display Map\n",
    "fig"
   ]
  },
  {
   "cell_type": "code",
   "execution_count": null,
   "metadata": {},
   "outputs": [],
   "source": []
  }
 ],
 "metadata": {
  "kernelspec": {
   "display_name": "Python 3",
   "language": "python",
   "name": "python3"
  },
  "language_info": {
   "codemirror_mode": {
    "name": "ipython",
    "version": 3
   },
   "file_extension": ".py",
   "mimetype": "text/x-python",
   "name": "python",
   "nbconvert_exporter": "python",
   "pygments_lexer": "ipython3",
   "version": "3.7.4"
  },
  "latex_envs": {
   "LaTeX_envs_menu_present": true,
   "autoclose": false,
   "autocomplete": true,
   "bibliofile": "biblio.bib",
   "cite_by": "apalike",
   "current_citInitial": 1,
   "eqLabelWithNumbers": true,
   "eqNumInitial": 1,
   "hotkeys": {
    "equation": "Ctrl-E",
    "itemize": "Ctrl-I"
   },
   "labels_anchors": false,
   "latex_user_defs": false,
   "report_style_numbering": false,
   "user_envs_cfg": false
  }
 },
 "nbformat": 4,
 "nbformat_minor": 4
}
